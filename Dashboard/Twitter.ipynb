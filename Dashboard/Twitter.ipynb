{
 "cells": [
  {
   "cell_type": "code",
   "execution_count": 18,
   "metadata": {},
   "outputs": [],
   "source": [
    "import tweepy\n",
    "from textblob import TextBlob\n",
    "from time import sleep\n",
    "from datetime import datetime\n",
    "import matplotlib.pyplot as plt\n",
    "import numpy as np\n",
    "from conexion import getConnection\n",
    "from googletrans import Translator\n",
    "\n",
    "import nltk\n",
    "import re\n",
    "nltk.download\n",
    "consumer_key = \"F70Tuo2dL0e08mgLU7QTSP9R9\"\n",
    "consumer_secret = \"I8jKWmBnq2qOlGVnRKintRztIL79q53YDmMUZV5phWpKW9SnBP\"\n",
    "access_key = \"92553187-VF6nsdE1SLFglseQ2DMUBoGIb6ZxQ5FrdgmbM2ioD\"\n",
    "access_secret = \"izY6ndERijvjOnHLz3e7TIjbAGJj2qlGj5aTf6ZSpoCuW\""
   ]
  },
  {
   "cell_type": "code",
   "execution_count": 20,
   "metadata": {
    "pycharm": {
     "name": "#%%\n"
    }
   },
   "outputs": [
    {
     "data": {
      "image/png": "[encoded data removed]",
      "text/plain": [
       "<Figure size 432x288 with 1 Axes>"
      ]
     },
     "metadata": {
      "needs_background": "light"
     },
     "output_type": "display_data"
    }
   ],
   "source": [
    "def get_all_tweets(screen_name,limit_number):\n",
    "    traductor = Translator()\n",
    "    limit_number = limit_number#3240\n",
    "    auth = tweepy.OAuthHandler(consumer_key, consumer_secret)\n",
    "    auth.set_access_token(access_key, access_secret)\n",
    "    api = tweepy.API(auth)\n",
    "    alltweets = []\n",
    "    #Hacer una petición inicial por los 200 tweets más recientes (200 es el número máximo permitido)\n",
    "    new_tweets = api.user_timeline(screen_name = screen_name,count=1)\n",
    "    #guardar los tweets más recientes\n",
    "    alltweets.extend(new_tweets)\n",
    "    #guardar el ID del tweet más antiguo menos 1\n",
    "    oldest = alltweets[-1].id - 1\n",
    "    \n",
    "    #recorrer todos los tweets en la cola hasta que no queden más\n",
    "    while len(new_tweets) > 0 and len(alltweets) <= limit_number:\n",
    "        #en todas las peticiones siguientes usar el parámetro max_id para evitar duplicados\n",
    "        new_tweets = api.user_timeline(screen_name = screen_name,count=1,max_id=oldest)\n",
    "        bd, connection = getConnection()\n",
    "\n",
    "        emoji_pattern = re.compile(\"[\"\n",
    "                               u\"\\U0001F600-\\U0001F64F\"  # emoticons\n",
    "                               u\"\\U0001F300-\\U0001F5FF\"  # symbols & pictographs\n",
    "                               u\"\\U0001F680-\\U0001F6FF\"  # transport & map symbols\n",
    "                               u\"\\U0001F1E0-\\U0001F1FF\"  # flags (iOS)\n",
    "                               u\"\\U00002500-\\U00002BEF\"  # chinese char\n",
    "                               u\"\\U00002702-\\U000027B0\"\n",
    "                               u\"\\U00002702-\\U000027B0\"\n",
    "                               u\"\\U000024C2-\\U0001F251\"\n",
    "                               u\"\\U0001f926-\\U0001f937\"\n",
    "                               u\"\\U00010000-\\U0010ffff\"\n",
    "                               u\"\\u2640-\\u2642\"\n",
    "                               u\"\\u2600-\\u2B55\"\n",
    "                               u\"\\u200d\"\n",
    "                               u\"\\u23cf\"\n",
    "                               u\"\\u23e9\"\n",
    "                               u\"\\u231a\"\n",
    "                               u\"\\ufe0f\"  # dingbats\n",
    "                               u\"\\u3030\"\n",
    "        \"]+\", flags=re.UNICODE)\n",
    "        \n",
    "        texto = emoji_pattern.sub(r'', new_tweets[0]._json['text'])\n",
    "        texto = re.sub(r'\\w+:\\/{2}[\\d\\w-]+(\\.[\\d\\w-]+)*(?:(?:\\/[^\\s/]*))*', '', texto)\n",
    "        texto = traductor.translate(texto, src=\"es\", dest='en').text\n",
    "        \n",
    "        \n",
    "        descripcion = emoji_pattern.sub(r'', new_tweets[0]._json['user']['description'])\n",
    "        descripcion = re.sub(r'\\w+:\\/{2}[\\d\\w-]+(\\.[\\d\\w-]+)*(?:(?:\\/[^\\s/]*))*', '', descripcion)\n",
    "        descripcion = traductor.translate(descripcion, src=\"es\", dest='en').text\n",
    "        \n",
    "        \n",
    "        #print(texto)\n",
    "        \n",
    "        sql = \"SELECT * FROM data_twitter WHERE id=%s\"\n",
    "        bd.execute(sql, (new_tweets[0]._json['user']['id_str']))\n",
    "        account = bd.fetchone()\n",
    "\n",
    "        if account:\n",
    "            sql = \"UPDATE data_twitter SET screen_name=%s,name=%s,location=%s,description=%s WHERE id = %s\"\n",
    "            bd.execute(sql, (new_tweets[0]._json['user']['screen_name'],new_tweets[0]._json['user']['name'],new_tweets[0]._json['user']['location'],descripcion,new_tweets[0]._json['user']['id_str']))\n",
    "        else:\n",
    "            sql = \"INSERT INTO data_twitter VALUES (%s, %s, %s, %s, %s)\"\n",
    "            bd.execute(sql, (new_tweets[0]._json['user']['id_str'],new_tweets[0]._json['user']['screen_name'],new_tweets[0]._json['user']['name'],new_tweets[0]._json['user']['location'],descripcion))\n",
    "        \n",
    "        connection.commit()\n",
    "            \n",
    "        sql = \"SELECT * FROM data_twitter_detalle WHERE id=%s\"\n",
    "        bd.execute(sql,(new_tweets[0]._json['id_str']))\n",
    "        twit = bd.fetchone()\n",
    "\n",
    "        if twit:\n",
    "            sql = \"UPDATE data_twitter_detalle SET text=%s WHERE id = %s\"\n",
    "            bd.execute(sql, (texto,new_tweets[0]._json['id_str']))\n",
    "        else:\n",
    "            sql = \"INSERT INTO data_twitter_detalle VALUES (%s, %s, %s, %s, %s,NULL,NULL,NULL,NULL,NULL)\"\n",
    "            if(new_tweets[0]._json['place']):\n",
    "                bd.execute(sql, (new_tweets[0]._json['id_str'],new_tweets[0]._json['user']['id_str'],texto,new_tweets[0]._json['place']['place_type'],new_tweets[0]._json['place']['name']))\n",
    "            else:\n",
    "                bd.execute(sql, (new_tweets[0]._json['id_str'],new_tweets[0]._json['user']['id_str'],texto,\"\",\"\"))\n",
    "        \n",
    "        connection.commit()\n",
    "            \n",
    "\n",
    "        #guardar los tweets descargados\n",
    "        alltweets.extend(new_tweets)\n",
    "        #actualizar el ID del tweet más antiguo menos 1\n",
    "        oldest = alltweets[-1].id - 1\n",
    "        #informar en la consola como vamos\n",
    "        #print(str(len(alltweets)-1) + \" tweets descargados hasta el momento\")\n",
    "\n",
    "    #Realizar el análisis de sentimiento de los tweets descargados\n",
    "        \n",
    "    #Crear las listas de polaridad polarity_list y frecuencia de polaridad numbers_list\n",
    "    polarity_list = []\n",
    "    numbers_list = []\n",
    "    number = 1\n",
    "        \n",
    "    for tweet in alltweets:\n",
    "        try:\n",
    "            analysis = TextBlob(tweet.text)\n",
    "            #https://textblob.readthedocs.io/en/dev/quickstart.html#sentiment-analysis\n",
    "            analysis = analysis.sentiment\n",
    "            #print(analysis)\n",
    "            #Guardar la polaridad\n",
    "            polarity = analysis.polarity\n",
    "            #print(analysis.polarity)\n",
    "            polarity_list.append(polarity)\n",
    "            #Contar las veces que esa polaridad ha ocurrido\n",
    "            numbers_list.append(number)\n",
    "            number = number + 1\n",
    "        except tweepy.TweepError as e:\n",
    "            print(e.reason)\n",
    "        except StopIteration:\n",
    "            break\n",
    "            \n",
    "    #Crear eje cartesiano\n",
    "    plt.figure(limit_number)\n",
    "    axes = plt.gca()\n",
    "    axes.set_ylim([-1, 3])\n",
    "    plt.scatter(numbers_list, polarity_list)\n",
    "    \n",
    "    #Calcular el promedio de polaridad, NOTA: No es promedio ponderado\n",
    "    averagePolarity = (sum(polarity_list))/(len(polarity_list))\n",
    "    averagePolarity = \"{0:.0f}%\".format(averagePolarity * 100)\n",
    "    time  = datetime.now().strftime(\"At%M\\nOn: %m-%d-%y\")\n",
    "\n",
    "    #Calcular el promedio ponderado\n",
    "    weighted_avgPolarity = np.average(polarity_list, weights=numbers_list)\n",
    "    weighted_avgPolarity = \"{0:.0f}%\".format(weighted_avgPolarity * 100)\n",
    "\n",
    "    #Agregar texto con el promedio de sentimiento\n",
    "    plt.text(10, 1.5, \"Average Sentiment:  \" + str(averagePolarity) + \"\\n\" + \" Weighted Average Sentiment:  \" + str(weighted_avgPolarity) + \"\\n\" + time, fontsize=12, bbox = dict(facecolor='none', edgecolor='black', boxstyle='square, pad = 1'))\n",
    "\n",
    "    #Título\n",
    "    plt.title(\"Sentiment + screen_name + on Twitter\")\n",
    "    plt.xlabel(\"Number of Tweets\")\n",
    "    plt.ylabel(\"Sentiment\")\n",
    "    pass\n",
    "                \n",
    "if __name__ == '__main__':\n",
    "    #get_all_tweets(\"raxielh\",15)\n",
    "    get_all_tweets(\"vale_delca\",20)\n",
    "    plt.show()"
   ]
  },
  {
   "cell_type": "code",
   "execution_count": 10,
   "metadata": {
    "pycharm": {
     "name": "#%%\n"
    }
   },
   "outputs": [
    {
     "data": {
      "text/plain": [
       "PosixPath('/home/ignisgravitas/CitizenLab/Dashboard')"
      ]
     },
     "execution_count": 10,
     "metadata": {},
     "output_type": "execute_result"
    }
   ],
   "source": []
  },
  {
   "cell_type": "code",
   "execution_count": null,
   "metadata": {},
   "outputs": [],
   "source": []
  }
 ],
 "metadata": {
  "kernelspec": {
   "display_name": "Python 3",
   "language": "python",
   "name": "python3"
  }
 },
 "nbformat": 4,
 "nbformat_minor": 1
}
